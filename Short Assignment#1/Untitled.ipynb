{
 "cells": [
  {
   "cell_type": "code",
   "execution_count": 2,
   "metadata": {},
   "outputs": [],
   "source": [
    "import numpy as np\n",
    "import imageio"
   ]
  },
  {
   "cell_type": "code",
   "execution_count": 112,
   "metadata": {},
   "outputs": [
    {
     "name": "stdout",
     "output_type": "stream",
     "text": [
      "num_small.png\n",
      "0.01\n"
     ]
    }
   ],
   "source": [
    "filename = str(input()).rstrip()\n",
    "threshold = float(input())"
   ]
  },
  {
   "cell_type": "code",
   "execution_count": 256,
   "metadata": {},
   "outputs": [],
   "source": [
    "input_img =  imageio.imread(\"./images/\"+filename)"
   ]
  },
  {
   "cell_type": "code",
   "execution_count": 257,
   "metadata": {},
   "outputs": [],
   "source": [
    "def DFT(f):\n",
    "    \n",
    "    # create empty array of complex coefficients\n",
    "    F = np.zeros(f.shape, dtype=np.complex64)\n",
    "    n,m = f.shape\n",
    "    \n",
    "    # creating indices for x, to compute multiplication using numpy (f*exp)\n",
    "    x = np.arange(n)\n",
    "    # for each frequency 'u,v'\n",
    "    for u in np.arange(n):\n",
    "        for v in np.arange(m):\n",
    "            for y in np.arange(m):\n",
    "                F[u,v] += np.sum(f[:,y] * np.exp( (-1j*2*np.pi) * (((u*x)/n)+((v*y)/m)) ))\n",
    "    \n",
    "    return F/np.sqrt(n*m)"
   ]
  },
  {
   "cell_type": "code",
   "execution_count": 270,
   "metadata": {
    "scrolled": false
   },
   "outputs": [],
   "source": [
    "output_img  =DFT(input_img)"
   ]
  },
  {
   "cell_type": "code",
   "execution_count": 271,
   "metadata": {},
   "outputs": [],
   "source": [
    "fourier_spectrum = np.abs(output_img)"
   ]
  },
  {
   "cell_type": "code",
   "execution_count": 272,
   "metadata": {},
   "outputs": [
    {
     "data": {
      "text/plain": [
       "654.99786"
      ]
     },
     "execution_count": 272,
     "metadata": {},
     "output_type": "execute_result"
    }
   ],
   "source": [
    "second_peak = max(np.amax(fourier_spectrum[1:,:]), np.amax(fourier_spectrum[:,1:]))\n",
    "second_peak"
   ]
  },
  {
   "cell_type": "code",
   "execution_count": 273,
   "metadata": {},
   "outputs": [],
   "source": [
    "def filter_threshold(f, threshold, fourier_spectrum, second_peak):\n",
    "    \n",
    "    n,m = f.shape\n",
    "    count = 0\n",
    "    F = np.zeros(f.shape, dtype=np.complex64)\n",
    "    for x in np.arange(n):\n",
    "        for y in np.arange(m):\n",
    "            if(fourier_spectrum[x,y] < (second_peak*threshold)):\n",
    "                count +=1\n",
    "                F[x,y] = 0\n",
    "            else:\n",
    "                F[x,y] = f[x,y]\n",
    "    return F, count"
   ]
  },
  {
   "cell_type": "code",
   "execution_count": 274,
   "metadata": {},
   "outputs": [
    {
     "data": {
      "text/plain": [
       "array([[ 5.3911562e+03  +0.j       , -3.9927731e+01+140.65506j  ,\n",
       "        -1.9218384e+02 +20.795242j , ..., -5.4225610e+02+229.43095j  ,\n",
       "        -1.9218384e+02 -20.795242j , -3.9927731e+01-140.65506j  ],\n",
       "       [-2.1827409e+02 -72.16556j  ,  3.8815418e+01 -27.887688j ,\n",
       "         3.6781250e+01+201.35541j  , ...,  7.9843154e+00 -24.704j    ,\n",
       "         1.8909273e+02+116.34334j  , -1.4182285e+02 -84.82297j  ],\n",
       "       [-1.2100475e+02 -75.69991j  ,  8.9723618e+01 -76.796776j ,\n",
       "        -1.5642093e+02 -11.847891j , ...,  3.5632996e+01 -34.846066j ,\n",
       "        -1.3930367e+02+152.06708j  ,  3.6072906e+01  +7.9735913j],\n",
       "       ...,\n",
       "       [-6.0936713e+02 +62.157005j ,  6.2414181e-01 -54.234375j ,\n",
       "        -1.9106459e+01  +5.8739705j, ...,  1.1373363e+01  -2.1933272j,\n",
       "         2.0058006e+01 +44.595272j , -5.1312416e+01 +50.097786j ],\n",
       "       [-1.2100475e+02 +75.69991j  ,  3.6072906e+01  -7.9735913j,\n",
       "        -1.3930367e+02-152.06708j  , ...,  2.5555822e+01 -12.3822j   ,\n",
       "        -1.5642093e+02 +11.847891j ,  8.9723618e+01 +76.796776j ],\n",
       "       [-2.1827409e+02 +72.16556j  , -1.4182285e+02 +84.82297j  ,\n",
       "         1.8909273e+02-116.34334j  , ...,  9.7170486e+00 +69.746284j ,\n",
       "         3.6781250e+01-201.35541j  ,  3.8815418e+01 +27.887688j ]],\n",
       "      dtype=complex64)"
      ]
     },
     "execution_count": 274,
     "metadata": {},
     "output_type": "execute_result"
    }
   ],
   "source": [
    "output_img1, count = filter_threshold(output_img, threshold, fourier_spectrum, second_peak)\n",
    "output_img1"
   ]
  },
  {
   "cell_type": "code",
   "execution_count": 264,
   "metadata": {},
   "outputs": [],
   "source": [
    "def inverse_DFT(F):\n",
    "    \n",
    "    # create empty array of complex coefficients\n",
    "    f = np.zeros(F.shape, dtype=np.complex64)\n",
    "    n,m = F.shape\n",
    "    \n",
    "    # creating indices for x, to compute multiplication using numpy (f*exp)\n",
    "    u = np.arange(n)\n",
    "    # for each frequency 'u,v'\n",
    "    for x in np.arange(n):\n",
    "        for y in np.arange(m):\n",
    "            for v in np.arange(m):\n",
    "                f[x,y] += np.sum(F[:,v] * np.exp( (1j*2*np.pi) * (((u*x)/n)+((v*y)/m)) ))\n",
    "    \n",
    "    return np.abs(f)/np.sqrt(n*m)\n",
    "    "
   ]
  },
  {
   "cell_type": "code",
   "execution_count": 275,
   "metadata": {},
   "outputs": [],
   "source": [
    "output_img =  inverse_DFT(output_img1)"
   ]
  },
  {
   "cell_type": "code",
   "execution_count": 276,
   "metadata": {},
   "outputs": [
    {
     "data": {
      "text/plain": [
       "168.57916"
      ]
     },
     "execution_count": 276,
     "metadata": {},
     "output_type": "execute_result"
    }
   ],
   "source": [
    "original_mean =  input_img.mean()\n",
    "new_mean = output_img.mean()\n",
    "new_mean.real"
   ]
  },
  {
   "cell_type": "code",
   "execution_count": 277,
   "metadata": {},
   "outputs": [
    {
     "data": {
      "text/plain": [
       "168.4736328125"
      ]
     },
     "execution_count": 277,
     "metadata": {},
     "output_type": "execute_result"
    }
   ],
   "source": [
    "original_mean"
   ]
  },
  {
   "cell_type": "code",
   "execution_count": 278,
   "metadata": {},
   "outputs": [
    {
     "name": "stdout",
     "output_type": "stream",
     "text": [
      "Threshold=6.5500\n",
      "Filtered Coefficients=12\n",
      "Original Mean=168.47\n",
      "New Mean=168.58\n"
     ]
    }
   ],
   "source": [
    "print(\"Threshold=\"+\"{:.4f}\".format(second_peak*threshold))\n",
    "print(\"Filtered Coefficients=\"+\"{}\" .format(count))\n",
    "print(\"Original Mean=\"+\"{:.2f}\".format(original_mean))\n",
    "print(\"New Mean=\"+\"{:.2f}\".format(new_mean.real))"
   ]
  }
 ],
 "metadata": {
  "kernelspec": {
   "display_name": "Python 3",
   "language": "python",
   "name": "python3"
  },
  "language_info": {
   "codemirror_mode": {
    "name": "ipython",
    "version": 3
   },
   "file_extension": ".py",
   "mimetype": "text/x-python",
   "name": "python",
   "nbconvert_exporter": "python",
   "pygments_lexer": "ipython3",
   "version": "3.6.9"
  }
 },
 "nbformat": 4,
 "nbformat_minor": 2
}
