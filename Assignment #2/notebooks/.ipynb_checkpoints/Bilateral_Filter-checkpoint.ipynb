{
 "cells": [
  {
   "cell_type": "code",
   "execution_count": 1,
   "metadata": {},
   "outputs": [],
   "source": [
    "import numpy as np\n",
    "import imageio"
   ]
  },
  {
   "cell_type": "code",
   "execution_count": 2,
   "metadata": {},
   "outputs": [
    {
     "name": "stdout",
     "output_type": "stream",
     "text": [
      "camera.png\n",
      "1\n",
      "0\n"
     ]
    }
   ],
   "source": [
    "filename = str(input()).rstrip() # Caso1: camera.png\n",
    "method = int(input()) # Caso1: 1\n",
    "save = int(input()) # Caso1:  0"
   ]
  },
  {
   "cell_type": "code",
   "execution_count": 4,
   "metadata": {},
   "outputs": [],
   "source": [
    "input_img = imageio.imread('../images/'+filename)"
   ]
  },
  {
   "cell_type": "code",
   "execution_count": 5,
   "metadata": {},
   "outputs": [
    {
     "name": "stdout",
     "output_type": "stream",
     "text": [
      "[[179 158 157 ... 170 156 118]\n",
      " [157 158 157 ... 154 151 152]\n",
      " [ 78 156 158 ... 151 153 152]\n",
      " ...\n",
      " [108 110  94 ...  85 107 189]\n",
      " [120 122  93 ... 139 135 122]\n",
      " [ 95 128 102 ... 124  51 119]]\n"
     ]
    }
   ],
   "source": [
    "print(input_img)"
   ]
  },
  {
   "cell_type": "code",
   "execution_count": 6,
   "metadata": {},
   "outputs": [
    {
     "name": "stdout",
     "output_type": "stream",
     "text": [
      "3\n",
      "150\n",
      "100\n"
     ]
    }
   ],
   "source": [
    "# CASOS DE TESTE 1 e 2\n",
    "\n",
    "if method == 1:\n",
    "    n = int(input()) # Caso1: 3\n",
    "    sigma_s = float(input()) # Caso1: 150\n",
    "    sigma_r = float(input()) # Caso1: 100"
   ]
  },
  {
   "cell_type": "code",
   "execution_count": null,
   "metadata": {},
   "outputs": [],
   "source": [
    "def bilateral_filter(n, sigma_s, sigma_r):\n",
    "    filter = np.zeros()"
   ]
  },
  {
   "cell_type": "code",
   "execution_count": 39,
   "metadata": {},
   "outputs": [],
   "source": [
    "np.random.seed(666)\n",
    "f = np.random.randint(0,7, 10)"
   ]
  },
  {
   "cell_type": "code",
   "execution_count": 40,
   "metadata": {},
   "outputs": [],
   "source": [
    "x =  (1/(2*np.pi*(sigma_s**2)))*np.exp((-f**2)/(2*(sigma_s**2)))"
   ]
  },
  {
   "cell_type": "code",
   "execution_count": 43,
   "metadata": {},
   "outputs": [],
   "source": [
    "w = np.zeros([n, n])\n",
    "a = int((n-1)/2) # caso de 3x3 -> a=1\n",
    "for x in range(n):\n",
    "    for y in range (n):\n",
    "        euclidian = np.sqrt((x-a)**2+ (y-a)**2)\n",
    "        w[x,y] =  (1/(2*np.pi*(sigma_s**2)))*np.exp((-euclidian**2)/(2*(sigma_s**2)))"
   ]
  },
  {
   "cell_type": "code",
   "execution_count": 44,
   "metadata": {},
   "outputs": [
    {
     "name": "stdout",
     "output_type": "stream",
     "text": [
      "[[7.07323865e-06 7.07339584e-06 7.07323865e-06]\n",
      " [7.07339584e-06 7.07355303e-06 7.07339584e-06]\n",
      " [7.07323865e-06 7.07339584e-06 7.07323865e-06]]\n"
     ]
    }
   ],
   "source": [
    "print(w)"
   ]
  },
  {
   "cell_type": "code",
   "execution_count": null,
   "metadata": {},
   "outputs": [],
   "source": []
  },
  {
   "cell_type": "code",
   "execution_count": 45,
   "metadata": {},
   "outputs": [],
   "source": [
    "def gaussian_kernel(x, sigma):\n",
    "    return (1/(2*np.pi*(sigma**2)))*np.exp((-x**2)/(2*(sigma**2)))"
   ]
  }
 ],
 "metadata": {
  "kernelspec": {
   "display_name": "Python 3",
   "language": "python",
   "name": "python3"
  },
  "language_info": {
   "codemirror_mode": {
    "name": "ipython",
    "version": 3
   },
   "file_extension": ".py",
   "mimetype": "text/x-python",
   "name": "python",
   "nbconvert_exporter": "python",
   "pygments_lexer": "ipython3",
   "version": "3.6.9"
  }
 },
 "nbformat": 4,
 "nbformat_minor": 2
}
